{
 "cells": [
  {
   "cell_type": "markdown",
   "metadata": {},
   "source": [
    "#how to use markdown"
   ]
  },
  {
   "cell_type": "markdown",
   "metadata": {},
   "source": [
    "# if you want large heading put single yash symbol i.e #  at starting of heading"
   ]
  },
  {
   "cell_type": "markdown",
   "metadata": {},
   "source": [
    "## if you want smaller heading put double yash i.e ##  at starting of heading"
   ]
  },
  {
   "cell_type": "markdown",
   "metadata": {},
   "source": [
    "### if you want very small heading put triple yash i.e ###  at starting of heading"
   ]
  },
  {
   "cell_type": "markdown",
   "metadata": {},
   "source": [
    "#### if you want very very small heding put 4 yash i.e #### at starting of heading"
   ]
  },
  {
   "cell_type": "code",
   "execution_count": null,
   "metadata": {},
   "outputs": [],
   "source": []
  },
  {
   "cell_type": "markdown",
   "metadata": {},
   "source": [
    "if you want to make points\n",
    "* item one\n",
    "* item two \n",
    "    * sub bullet points\n",
    "        * sub sub bullet points\n",
    "please put * this symbol and give space after * this"
   ]
  },
  {
   "cell_type": "markdown",
   "metadata": {},
   "source": [
    "if you want to make points\n",
    "1.  item one\n",
    "2. item two \n",
    "    3. sub bullet points\n",
    "        4. sub sub bullet points\n",
    "#please put number  and give space after number\n",
    " #for sub points after you put a number  after ypu press shift+enter alphabets will be appeared"
   ]
  },
  {
   "cell_type": "markdown",
   "metadata": {},
   "source": [
    "*if you want itallic style of letters*\n",
    "#put one star * at starting side and put another star * at ending side"
   ]
  },
  {
   "cell_type": "markdown",
   "metadata": {},
   "source": [
    "**if you want bold style of letters** \n",
    "#put 2stars at starting side and put another 2stars at ending side\n",
    "#don't give space after the stars at starting side\n",
    "# don't give space before the stars at ending side"
   ]
  },
  {
   "cell_type": "markdown",
   "metadata": {},
   "source": [
    "<u>if you want underlined sentence\n",
    " please put symbol at starting side like this"
   ]
  },
  {
   "cell_type": "markdown",
   "metadata": {},
   "source": [
    "<font color='green'>if you want underlined sentence</font>\n",
    "#pleae put <font color='green'> these at starting side\n",
    "#please put </font> at ending side  "
   ]
  },
  {
   "cell_type": "markdown",
   "metadata": {},
   "source": [
    "# if you want to create a table please write like this\n",
    " | left aligned | center aligned | right aligned |\n",
    " |:-------------|:--------------:|--------------:|\n",
    " | pressure     | p              | (pa}          |"
   ]
  },
  {
   "cell_type": "markdown",
   "metadata": {},
   "source": [
    "if you want to add pictures \n",
    "<img src='file name' width=500>"
   ]
  }
 ],
 "metadata": {
  "kernelspec": {
   "display_name": "Python 3",
   "language": "python",
   "name": "python3"
  },
  "language_info": {
   "codemirror_mode": {
    "name": "ipython",
    "version": 3
   },
   "file_extension": ".py",
   "mimetype": "text/x-python",
   "name": "python",
   "nbconvert_exporter": "python",
   "pygments_lexer": "ipython3",
   "version": "3.7.3"
  }
 },
 "nbformat": 4,
 "nbformat_minor": 2
}
